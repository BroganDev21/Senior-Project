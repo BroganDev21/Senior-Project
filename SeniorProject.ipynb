{
 "cells": [
  {
   "cell_type": "markdown",
   "id": "129aad43-b046-4773-a03b-3f68e68c4199",
   "metadata": {},
   "source": [
    "# Senior Project: AI vs Human Text"
   ]
  },
  {
   "cell_type": "markdown",
   "id": "d340ba3f-5e60-4e9e-9467-27b22d1c4420",
   "metadata": {},
   "source": [
    "## Data Collection"
   ]
  },
  {
   "cell_type": "code",
   "execution_count": null,
   "id": "7f7ea65f-e54e-41ee-a356-8dc4c4dd9ed7",
   "metadata": {},
   "outputs": [],
   "source": [
    "### Currently using my old writing assignments and some random essays. "
   ]
  },
  {
   "cell_type": "markdown",
   "id": "d496b737-08d5-41cf-bcad-1dd876745af4",
   "metadata": {},
   "source": [
    "## Data Preprocessing"
   ]
  },
  {
   "cell_type": "code",
   "execution_count": 1,
   "id": "2602c43b-fae1-4337-a7ab-689eea77c3a4",
   "metadata": {},
   "outputs": [
    {
     "name": "stdout",
     "output_type": "stream",
     "text": [
      "Collecting python-docx\n",
      "  Downloading python_docx-1.1.0-py3-none-any.whl.metadata (2.0 kB)\n",
      "Collecting lxml>=3.1.0 (from python-docx)\n",
      "  Downloading lxml-5.1.0-cp38-cp38-win_amd64.whl.metadata (3.6 kB)\n",
      "Requirement already satisfied: typing-extensions in c:\\users\\colin\\anaconda3\\envs\\senior_project\\lib\\site-packages (from python-docx) (4.9.0)\n",
      "Downloading python_docx-1.1.0-py3-none-any.whl (239 kB)\n",
      "   ---------------------------------------- 0.0/239.6 kB ? eta -:--:--\n",
      "   ----- --------------------------------- 30.7/239.6 kB 640.0 kB/s eta 0:00:01\n",
      "   ---------------------------------------- 239.6/239.6 kB 2.4 MB/s eta 0:00:00\n",
      "Downloading lxml-5.1.0-cp38-cp38-win_amd64.whl (3.9 MB)\n",
      "   ---------------------------------------- 0.0/3.9 MB ? eta -:--:--\n",
      "   --------------------- ------------------ 2.1/3.9 MB 44.7 MB/s eta 0:00:01\n",
      "   ---------------------------------------- 3.9/3.9 MB 49.4 MB/s eta 0:00:00\n",
      "Installing collected packages: lxml, python-docx\n",
      "Successfully installed lxml-5.1.0 python-docx-1.1.0\n"
     ]
    }
   ],
   "source": [
    "!pip install python-docx"
   ]
  },
  {
   "cell_type": "code",
   "execution_count": null,
   "id": "110fbb41-d183-43f3-824b-27519a03361e",
   "metadata": {},
   "outputs": [],
   "source": [
    "from docx import Document\n",
    "\n",
    "def docx_to_text_and_metadata(path):\n",
    "    doc = Document(path)\n",
    "    full_text = [paragraph.text for paragraph in doc.paragraphs]\n",
    "    text = '\\n'.join(full_text)\n",
    "    \n",
    "    # Accessing document properties\n",
    "    title = doc.core_properties.title\n",
    "    subject = doc.core_properties.subject\n",
    "    categories = doc.core_properties.categories\n",
    "    \n",
    "    return {'text': text, 'title': title, 'subject': subject, 'categories': categories}"
   ]
  },
  {
   "cell_type": "code",
   "execution_count": null,
   "id": "6163a139-fd9c-4ba2-b077-d4ddbb231249",
   "metadata": {},
   "outputs": [],
   "source": [
    "import os\n",
    "\n",
    "docs_dir = 'path/to/your/docs_folder'  # Update this to your folder path\n",
    "doc_files = [f for f in os.listdir(docs_dir) if f.endswith('.docx')]\n",
    "\n",
    "docs_data = []\n",
    "for file in doc_files:\n",
    "    file_path = os.path.join(docs_dir, file)\n",
    "    doc_data = docx_to_text_and_metadata(file_path)\n",
    "    doc_data['file_name'] = file  # Adding file name as additional metadata\n",
    "    docs_data.append(doc_data)"
   ]
  }
 ],
 "metadata": {
  "kernelspec": {
   "display_name": "Python 3 (ipykernel)",
   "language": "python",
   "name": "python3"
  },
  "language_info": {
   "codemirror_mode": {
    "name": "ipython",
    "version": 3
   },
   "file_extension": ".py",
   "mimetype": "text/x-python",
   "name": "python",
   "nbconvert_exporter": "python",
   "pygments_lexer": "ipython3",
   "version": "3.8.18"
  }
 },
 "nbformat": 4,
 "nbformat_minor": 5
}
